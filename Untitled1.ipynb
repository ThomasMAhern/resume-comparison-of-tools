{
 "cells": [
  {
   "cell_type": "code",
   "execution_count": 24,
   "id": "30f1c615-501d-47f2-891e-d48b90cd1530",
   "metadata": {},
   "outputs": [],
   "source": [
    "theirs = \"API, AWS, Python, NLP, GitHub, Pandas, Numpy, Beautifulsoup, Github, Heap Exchange, \\\n",
    "        Stack Exchange, Stack Overflow, MS Office, Jupyter, Wireshark\"\n",
    "\n",
    "mine = \"Python, NLP, GitHub, Pandas, Numpy, Beautifulsoup, Github, Heap Exchange, \\\n",
    "        Stack Exchange, Stack Overflow, ArcGIS, Jupyter\""
   ]
  },
  {
   "cell_type": "code",
   "execution_count": 25,
   "id": "f9210047-d291-4676-b54b-cdee536fb1c8",
   "metadata": {},
   "outputs": [],
   "source": [
    "their_tools = theirs.lower().split(', ')\n",
    "my_tools = mine.lower().split(', ')"
   ]
  },
  {
   "cell_type": "code",
   "execution_count": 26,
   "id": "29004d7b-81b0-4af4-84a6-cadd99db677b",
   "metadata": {},
   "outputs": [
    {
     "data": {
      "text/plain": [
       "{'api', 'aws', 'ms office', 'wireshark'}"
      ]
     },
     "execution_count": 26,
     "metadata": {},
     "output_type": "execute_result"
    }
   ],
   "source": [
    "# Any tools they require that I forgot to put in mine?\n",
    "set(their_tools) - set(my_tools)"
   ]
  },
  {
   "cell_type": "code",
   "execution_count": null,
   "id": "aa352151-d066-4da1-9fd7-f547171c9fc2",
   "metadata": {},
   "outputs": [],
   "source": []
  }
 ],
 "metadata": {
  "kernelspec": {
   "display_name": "Python 3",
   "language": "python",
   "name": "python3"
  },
  "language_info": {
   "codemirror_mode": {
    "name": "ipython",
    "version": 3
   },
   "file_extension": ".py",
   "mimetype": "text/x-python",
   "name": "python",
   "nbconvert_exporter": "python",
   "pygments_lexer": "ipython3",
   "version": "3.9.5"
  }
 },
 "nbformat": 4,
 "nbformat_minor": 5
}
